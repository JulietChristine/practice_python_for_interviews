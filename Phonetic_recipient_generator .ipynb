{
 "cells": [
  {
   "cell_type": "code",
   "execution_count": 1,
   "metadata": {},
   "outputs": [],
   "source": [
    "phonetic_list = ['alpha', 'bravo', 'charlie','delta', 'echo', 'foxtrot', 'golf', 'hotel', 'india', 'juliet', 'kilo', 'lima', 'mike', 'november', 'oscar', 'papa', 'quebec', 'romeo', 'sierra', 'tango', 'uniform', 'victor', 'whiskey', 'x-ray', 'yankee', 'zulu', ' ']\n",
    "abcs = ['a','b','c','d','e','f','g','h','i','j','k','l','m','n','o','p','q','r','s','t','u','v','w','x','y','z',' ']"
   ]
  },
  {
   "cell_type": "code",
   "execution_count": 6,
   "metadata": {},
   "outputs": [
    {
     "name": "stdout",
     "output_type": "stream",
     "text": [
      "Recipient NameABC Title Company Inc\n"
     ]
    }
   ],
   "source": [
    "txt = input(\"Recipient Name\")"
   ]
  },
  {
   "cell_type": "code",
   "execution_count": 7,
   "metadata": {},
   "outputs": [],
   "source": [
    "letter_list = [letter.lower() for letter in txt]"
   ]
  },
  {
   "cell_type": "code",
   "execution_count": 8,
   "metadata": {},
   "outputs": [],
   "source": [
    "def phonetic_recipient():\n",
    "    for letter in letter_list:\n",
    "        for i in range(len(abcs)):\n",
    "            if letter == abcs[i]:\n",
    "                print(letter, \"-\", phonetic_list[i]) "
   ]
  },
  {
   "cell_type": "code",
   "execution_count": 9,
   "metadata": {},
   "outputs": [
    {
     "name": "stdout",
     "output_type": "stream",
     "text": [
      "a - alpha\n",
      "b - bravo\n",
      "c - charlie\n",
      "  -  \n",
      "t - tango\n",
      "i - india\n",
      "t - tango\n",
      "l - lima\n",
      "e - echo\n",
      "  -  \n",
      "c - charlie\n",
      "o - oscar\n",
      "m - mike\n",
      "p - papa\n",
      "a - alpha\n",
      "n - november\n",
      "y - yankee\n",
      "  -  \n",
      "i - india\n",
      "n - november\n",
      "c - charlie\n"
     ]
    }
   ],
   "source": [
    "phonetic_recipient()"
   ]
  },
  {
   "cell_type": "code",
   "execution_count": null,
   "metadata": {},
   "outputs": [],
   "source": []
  }
 ],
 "metadata": {
  "kernelspec": {
   "display_name": "Python 3",
   "language": "python",
   "name": "python3"
  },
  "language_info": {
   "codemirror_mode": {
    "name": "ipython",
    "version": 3
   },
   "file_extension": ".py",
   "mimetype": "text/x-python",
   "name": "python",
   "nbconvert_exporter": "python",
   "pygments_lexer": "ipython3",
   "version": "3.8.5"
  }
 },
 "nbformat": 4,
 "nbformat_minor": 4
}
